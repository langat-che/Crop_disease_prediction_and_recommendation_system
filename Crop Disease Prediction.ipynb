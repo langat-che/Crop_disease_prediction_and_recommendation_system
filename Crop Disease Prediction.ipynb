{
  "nbformat": 4,
  "nbformat_minor": 0,
  "metadata": {
    "colab": {
      "provenance": []
    },
    "kernelspec": {
      "name": "python3",
      "display_name": "Python 3"
    },
    "language_info": {
      "name": "python"
    }
  },
  "cells": [
    {
      "cell_type": "markdown",
      "source": [
        "# **Crop Disease Prediction and Recommendation System**\n",
        "\n",
        "\n",
        "\n",
        "---\n",
        "\n",
        "\n",
        "\n",
        "---\n",
        "\n",
        "\n",
        "\n",
        "## Empowering Farmers with AI-Driven Agricultural Solutions\n",
        "\n",
        "\n"
      ],
      "metadata": {
        "id": "7EuHoszEry4-"
      }
    },
    {
      "cell_type": "markdown",
      "source": [
        "# **Business Understanding**\n",
        "\n",
        "Agriculture remains the backbone of many economies, particularly in developing regions. However, pests and diseases significantly impact crop yields, often going undetected until it's too late. Farmers frequently rely on experience or guesswork, leading to misdiagnosis and excessive pesticide use. This not only reduces productivity but also harms the environment and increases costs.\n",
        "\n",
        "Modern AI technologies can bridge this gap by enabling early, accurate detection of plant diseases and pests — and offering tailored treatment recommendations. By leveraging computer vision and machine learning models trained on real-world agricultural datasets like `TOM2024`, we can help farmers make informed, timely decisions.\n",
        "\n",
        "# **Problem Statement**\n",
        "Farmers often struggle to accurately identify crop diseases and pests, leading to delayed or incorrect treatments that reduce yield and increase costs. Therefore, is a need for an AI-driven solution that can rapidly detect crop issues from images and provide actionable treatment recommendations\n",
        "\n",
        "# **Business Objectives**\n",
        "\n",
        "## 🎯**Main Objective**\n",
        "\n",
        "To develop an AI-powered system that accurately detects crop diseases and pests from images.\n",
        "\n",
        "## ✅**Specific Objectives**\n",
        "\n",
        "1. To develop a deep learning model capable of classifying crop diseases and pests from images of tomato, maize, and onion crops using the TOM2024 dataset.\n",
        "\n",
        "2. To preprocess and augment image data to improve model generalization across various lighting and environmental conditions.\n",
        "\n",
        "3. To minimize the reliance on chemical pesticides by promoting early detection and precise intervention strategies.\n",
        "\n",
        "4. To generate appropriate treatment or action recommendations for each predicted disease or pest, based on agricultural best practices.\n",
        "\n",
        "\n",
        "# **Key Questions To Address**\n",
        "\n",
        "1. Can we accurately classify crop diseases and pests from images?\n",
        "\n",
        "2. How early can diseases be detected from visual symptoms?\n",
        "\n",
        "3. What recommendations can we give to farmers for each diagnosis?\n",
        "\n",
        "4. Can the model be deployed in real-time on mobile or low-resource devices?\n",
        "\n",
        "\n",
        "# **Metrics of Success**\n",
        "\n",
        "✅ Model accuracy, precision, recall ≥ 85% on validation data\n",
        "\n",
        "🕒 Diagnosis time per image ≤ 2 seconds\n",
        "\n",
        "📉 At least 30% reduction in unnecessary pesticide usage\n",
        "\n",
        "📲 Deployable and testable via user-friendly interface"
      ],
      "metadata": {
        "id": "yyHSTQGLsWog"
      }
    },
    {
      "cell_type": "markdown",
      "source": [
        "# 📊 **Data Understanding**\n",
        "\n",
        "The project utilizes the `TOM2024` dataset, a comprehensive and high-quality collection of crop images specifically curated for pest and disease detection in maize, tomato, and onion crops.\n",
        "\n",
        "## 📁 **Dataset Overview**\n",
        "\n",
        "The **`TOM2024`** dataset is a comprehensive and valuable resource for advancing agricultural research and AI-driven crop protection. It contains 25,844 raw images and 12,227 labeled images of tomato, onion, and maize crops, meticulously categorized into 30 distinct classes, representing various diseases, pests, and health conditions across the three crops.\n",
        "\n",
        "## 🏷️ Data Structure\n",
        "The images are categorized by:\n",
        "\n",
        "- *Crop type: Tomato, Maize, Onion*\n",
        "\n",
        "- *Issue type: Disease or Pest*\n",
        "\n",
        "- *Specific Class Label: e.g., Tomato__Early_Blight, Maize__Fall_Armyworm, Onion__Healthy*\n",
        "\n",
        "**The images are stored in subfolders named after their class labels.**\n",
        "\n",
        "**The images are of high-resolution, captured in real agricultural settings across different regions.**\n",
        "\n",
        "**They are from diverse environmental conditions, lighting, and angles—boosting model generalization.**\n",
        "\n",
        "**Each labeled image has undergone:**\n",
        "\n",
        "1. *Expert identification and annotation*\n",
        "\n",
        "2. *Cropping and resizing*\n",
        "\n",
        "3. *Validation by agricultural professionals*\n"
      ],
      "metadata": {
        "id": "-1Tfk394sWcu"
      }
    },
    {
      "cell_type": "code",
      "source": [
        "#mount google drive\n",
        "\n",
        "from google.colab import drive\n",
        "drive.mount('/content/drive')"
      ],
      "metadata": {
        "colab": {
          "base_uri": "https://localhost:8080/"
        },
        "id": "XsNqteAYKvIg",
        "outputId": "b12842cd-2cd5-45c1-d498-a0c0b1f566e8"
      },
      "execution_count": 1,
      "outputs": [
        {
          "output_type": "stream",
          "name": "stdout",
          "text": [
            "Drive already mounted at /content/drive; to attempt to forcibly remount, call drive.mount(\"/content/drive\", force_remount=True).\n"
          ]
        }
      ]
    },
    {
      "cell_type": "code",
      "source": [
        "#import libraries\n",
        "\n",
        "import zipfile\n",
        "import os\n"
      ],
      "metadata": {
        "id": "AmYNzAXHqt0W"
      },
      "execution_count": 2,
      "outputs": []
    },
    {
      "cell_type": "code",
      "source": [
        "#Extract the zipfile\n",
        "\n",
        "zip_path = \"/content/drive/MyDrive/TOM2024.zip\"\n",
        "extract_path = \"/content/TOM2024_dataset\"\n",
        "\n",
        "with zipfile.ZipFile(zip_path, \"r\") as zip_ref:\n",
        "    zip_ref.extractall(extract_path)\n",
        "\n",
        "print(\"Extraction complete!\")"
      ],
      "metadata": {
        "colab": {
          "base_uri": "https://localhost:8080/"
        },
        "id": "zEoSj0rIhF5t",
        "outputId": "72aa88d7-8628-4fb4-9132-5545e06e5a01"
      },
      "execution_count": 3,
      "outputs": [
        {
          "output_type": "stream",
          "name": "stdout",
          "text": [
            "Extraction complete!\n"
          ]
        }
      ]
    },
    {
      "cell_type": "code",
      "source": [
        "# Check file size\n",
        "size_mb = os.path.getsize(zip_path) / (1024 * 1024)\n",
        "print(f\"File size: {size_mb:.2f} MB\")"
      ],
      "metadata": {
        "colab": {
          "base_uri": "https://localhost:8080/"
        },
        "id": "pCLblrEMhMx_",
        "outputId": "1f746b91-c170-4910-b450-fceb120d436a"
      },
      "execution_count": 11,
      "outputs": [
        {
          "output_type": "stream",
          "name": "stdout",
          "text": [
            "File size: 1415.49 MB\n"
          ]
        }
      ]
    },
    {
      "cell_type": "code",
      "source": [
        "# base_path = '/content/TOM2024_dataset'\n",
        "# for root, dirs, files in os.walk(base_path):\n",
        "#     print(f'📁 Folder: {root} | 📸 Files: {len(files)}')\n",
        "#     break  # Remove this if you want to print the whole structure"
      ],
      "metadata": {
        "id": "mR2Mx0vliMRz"
      },
      "execution_count": 16,
      "outputs": []
    },
    {
      "cell_type": "code",
      "source": [],
      "metadata": {
        "id": "zvoFQbv60zYV"
      },
      "execution_count": 5,
      "outputs": []
    }
  ]
}